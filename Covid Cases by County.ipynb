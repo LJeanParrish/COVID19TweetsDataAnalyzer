{
 "cells": [
  {
   "cell_type": "code",
   "execution_count": 25,
   "id": "guilty-thing",
   "metadata": {},
   "outputs": [],
   "source": [
    "#import dependencies\n",
    "import pandas as pd\n",
    "import numpy as np\n",
    "import matplotlib.pyplot as plt\n",
    "import datetime"
   ]
  },
  {
   "cell_type": "code",
   "execution_count": 26,
   "id": "meaningful-subcommittee",
   "metadata": {},
   "outputs": [
    {
     "data": {
      "text/plain": [
       "date      991917\n",
       "county    991917\n",
       "state     991917\n",
       "fips      982704\n",
       "cases     991917\n",
       "deaths    970582\n",
       "dtype: int64"
      ]
     },
     "execution_count": 26,
     "metadata": {},
     "output_type": "execute_result"
    }
   ],
   "source": [
    "#read csv file\n",
    "Covid_county=pd.read_csv('Counties.csv')\n",
    "Covid_county.count()"
   ]
  },
  {
   "cell_type": "code",
   "execution_count": 3,
   "id": "liable-rocket",
   "metadata": {},
   "outputs": [],
   "source": [
    "#Filter dataframe to North Carolina and also to Mecklenburg County\n",
    "NC_County = Covid_county[Covid_county.state == \"North Carolina\"]\n",
    "Charlotte_county_data = NC_County[NC_County.county == 'Mecklenburg']"
   ]
  },
  {
   "cell_type": "code",
   "execution_count": 4,
   "id": "gorgeous-tablet",
   "metadata": {},
   "outputs": [
    {
     "data": {
      "text/html": [
       "<div>\n",
       "<style scoped>\n",
       "    .dataframe tbody tr th:only-of-type {\n",
       "        vertical-align: middle;\n",
       "    }\n",
       "\n",
       "    .dataframe tbody tr th {\n",
       "        vertical-align: top;\n",
       "    }\n",
       "\n",
       "    .dataframe thead th {\n",
       "        text-align: right;\n",
       "    }\n",
       "</style>\n",
       "<table border=\"1\" class=\"dataframe\">\n",
       "  <thead>\n",
       "    <tr style=\"text-align: right;\">\n",
       "      <th></th>\n",
       "      <th>date</th>\n",
       "      <th>county</th>\n",
       "      <th>state</th>\n",
       "      <th>fips</th>\n",
       "      <th>cases</th>\n",
       "      <th>deaths</th>\n",
       "    </tr>\n",
       "  </thead>\n",
       "  <tbody>\n",
       "    <tr>\n",
       "      <th>483</th>\n",
       "      <td>2020-03-03</td>\n",
       "      <td>Wake</td>\n",
       "      <td>North Carolina</td>\n",
       "      <td>37183.0</td>\n",
       "      <td>1</td>\n",
       "      <td>0.0</td>\n",
       "    </tr>\n",
       "    <tr>\n",
       "      <th>520</th>\n",
       "      <td>2020-03-04</td>\n",
       "      <td>Wake</td>\n",
       "      <td>North Carolina</td>\n",
       "      <td>37183.0</td>\n",
       "      <td>1</td>\n",
       "      <td>0.0</td>\n",
       "    </tr>\n",
       "    <tr>\n",
       "      <th>567</th>\n",
       "      <td>2020-03-05</td>\n",
       "      <td>Wake</td>\n",
       "      <td>North Carolina</td>\n",
       "      <td>37183.0</td>\n",
       "      <td>1</td>\n",
       "      <td>0.0</td>\n",
       "    </tr>\n",
       "    <tr>\n",
       "      <th>630</th>\n",
       "      <td>2020-03-06</td>\n",
       "      <td>Chatham</td>\n",
       "      <td>North Carolina</td>\n",
       "      <td>37037.0</td>\n",
       "      <td>1</td>\n",
       "      <td>0.0</td>\n",
       "    </tr>\n",
       "    <tr>\n",
       "      <th>631</th>\n",
       "      <td>2020-03-06</td>\n",
       "      <td>Wake</td>\n",
       "      <td>North Carolina</td>\n",
       "      <td>37183.0</td>\n",
       "      <td>1</td>\n",
       "      <td>0.0</td>\n",
       "    </tr>\n",
       "  </tbody>\n",
       "</table>\n",
       "</div>"
      ],
      "text/plain": [
       "           date   county           state     fips  cases  deaths\n",
       "483  2020-03-03     Wake  North Carolina  37183.0      1     0.0\n",
       "520  2020-03-04     Wake  North Carolina  37183.0      1     0.0\n",
       "567  2020-03-05     Wake  North Carolina  37183.0      1     0.0\n",
       "630  2020-03-06  Chatham  North Carolina  37037.0      1     0.0\n",
       "631  2020-03-06     Wake  North Carolina  37183.0      1     0.0"
      ]
     },
     "execution_count": 4,
     "metadata": {},
     "output_type": "execute_result"
    }
   ],
   "source": [
    "NC_County.head(5)"
   ]
  },
  {
   "cell_type": "code",
   "execution_count": 5,
   "id": "disciplinary-stretch",
   "metadata": {},
   "outputs": [
    {
     "data": {
      "text/plain": [
       "date      datetime64[ns]\n",
       "county            object\n",
       "state             object\n",
       "cases              int64\n",
       "deaths           float64\n",
       "dtype: object"
      ]
     },
     "execution_count": 5,
     "metadata": {},
     "output_type": "execute_result"
    }
   ],
   "source": [
    "#Drop Flips Columns from Dataframe\n",
    "Charlotte_county_clean = Charlotte_county_data.drop(['fips'], axis=1)\n",
    "Charlotte_timeline= Charlotte_county_clean.sort_values(['date'])\n",
    "\n",
    "#Convert Date Column from object to datetime variable\n",
    "Charlotte_timeline['date']=pd.to_datetime(Charlotte_timeline['date'])\n",
    "Charlotte_timeline.dtypes"
   ]
  },
  {
   "cell_type": "code",
   "execution_count": 6,
   "id": "requested-neighbor",
   "metadata": {},
   "outputs": [
    {
     "data": {
      "text/html": [
       "<div>\n",
       "<style scoped>\n",
       "    .dataframe tbody tr th:only-of-type {\n",
       "        vertical-align: middle;\n",
       "    }\n",
       "\n",
       "    .dataframe tbody tr th {\n",
       "        vertical-align: top;\n",
       "    }\n",
       "\n",
       "    .dataframe thead th {\n",
       "        text-align: right;\n",
       "    }\n",
       "</style>\n",
       "<table border=\"1\" class=\"dataframe\">\n",
       "  <thead>\n",
       "    <tr style=\"text-align: right;\">\n",
       "      <th></th>\n",
       "      <th>date</th>\n",
       "      <th>county</th>\n",
       "      <th>state</th>\n",
       "      <th>cases</th>\n",
       "      <th>deaths</th>\n",
       "    </tr>\n",
       "  </thead>\n",
       "  <tbody>\n",
       "    <tr>\n",
       "      <th>928970</th>\n",
       "      <td>2021-01-14</td>\n",
       "      <td>Mecklenburg</td>\n",
       "      <td>North Carolina</td>\n",
       "      <td>74587</td>\n",
       "      <td>675.0</td>\n",
       "    </tr>\n",
       "    <tr>\n",
       "      <th>932215</th>\n",
       "      <td>2021-01-15</td>\n",
       "      <td>Mecklenburg</td>\n",
       "      <td>North Carolina</td>\n",
       "      <td>75482</td>\n",
       "      <td>683.0</td>\n",
       "    </tr>\n",
       "    <tr>\n",
       "      <th>935460</th>\n",
       "      <td>2021-01-16</td>\n",
       "      <td>Mecklenburg</td>\n",
       "      <td>North Carolina</td>\n",
       "      <td>76542</td>\n",
       "      <td>683.0</td>\n",
       "    </tr>\n",
       "    <tr>\n",
       "      <th>938705</th>\n",
       "      <td>2021-01-17</td>\n",
       "      <td>Mecklenburg</td>\n",
       "      <td>North Carolina</td>\n",
       "      <td>77030</td>\n",
       "      <td>691.0</td>\n",
       "    </tr>\n",
       "    <tr>\n",
       "      <th>941950</th>\n",
       "      <td>2021-01-18</td>\n",
       "      <td>Mecklenburg</td>\n",
       "      <td>North Carolina</td>\n",
       "      <td>77257</td>\n",
       "      <td>697.0</td>\n",
       "    </tr>\n",
       "    <tr>\n",
       "      <th>945196</th>\n",
       "      <td>2021-01-19</td>\n",
       "      <td>Mecklenburg</td>\n",
       "      <td>North Carolina</td>\n",
       "      <td>78258</td>\n",
       "      <td>707.0</td>\n",
       "    </tr>\n",
       "    <tr>\n",
       "      <th>948443</th>\n",
       "      <td>2021-01-20</td>\n",
       "      <td>Mecklenburg</td>\n",
       "      <td>North Carolina</td>\n",
       "      <td>78888</td>\n",
       "      <td>716.0</td>\n",
       "    </tr>\n",
       "    <tr>\n",
       "      <th>951688</th>\n",
       "      <td>2021-01-21</td>\n",
       "      <td>Mecklenburg</td>\n",
       "      <td>North Carolina</td>\n",
       "      <td>79623</td>\n",
       "      <td>721.0</td>\n",
       "    </tr>\n",
       "    <tr>\n",
       "      <th>954933</th>\n",
       "      <td>2021-01-22</td>\n",
       "      <td>Mecklenburg</td>\n",
       "      <td>North Carolina</td>\n",
       "      <td>80555</td>\n",
       "      <td>726.0</td>\n",
       "    </tr>\n",
       "    <tr>\n",
       "      <th>958179</th>\n",
       "      <td>2021-01-23</td>\n",
       "      <td>Mecklenburg</td>\n",
       "      <td>North Carolina</td>\n",
       "      <td>81179</td>\n",
       "      <td>726.0</td>\n",
       "    </tr>\n",
       "    <tr>\n",
       "      <th>961424</th>\n",
       "      <td>2021-01-24</td>\n",
       "      <td>Mecklenburg</td>\n",
       "      <td>North Carolina</td>\n",
       "      <td>81933</td>\n",
       "      <td>739.0</td>\n",
       "    </tr>\n",
       "    <tr>\n",
       "      <th>964669</th>\n",
       "      <td>2021-01-25</td>\n",
       "      <td>Mecklenburg</td>\n",
       "      <td>North Carolina</td>\n",
       "      <td>82578</td>\n",
       "      <td>747.0</td>\n",
       "    </tr>\n",
       "    <tr>\n",
       "      <th>967913</th>\n",
       "      <td>2021-01-26</td>\n",
       "      <td>Mecklenburg</td>\n",
       "      <td>North Carolina</td>\n",
       "      <td>83209</td>\n",
       "      <td>754.0</td>\n",
       "    </tr>\n",
       "    <tr>\n",
       "      <th>971158</th>\n",
       "      <td>2021-01-27</td>\n",
       "      <td>Mecklenburg</td>\n",
       "      <td>North Carolina</td>\n",
       "      <td>83816</td>\n",
       "      <td>756.0</td>\n",
       "    </tr>\n",
       "    <tr>\n",
       "      <th>974403</th>\n",
       "      <td>2021-01-28</td>\n",
       "      <td>Mecklenburg</td>\n",
       "      <td>North Carolina</td>\n",
       "      <td>84444</td>\n",
       "      <td>766.0</td>\n",
       "    </tr>\n",
       "    <tr>\n",
       "      <th>977648</th>\n",
       "      <td>2021-01-29</td>\n",
       "      <td>Mecklenburg</td>\n",
       "      <td>North Carolina</td>\n",
       "      <td>85109</td>\n",
       "      <td>770.0</td>\n",
       "    </tr>\n",
       "    <tr>\n",
       "      <th>980894</th>\n",
       "      <td>2021-01-30</td>\n",
       "      <td>Mecklenburg</td>\n",
       "      <td>North Carolina</td>\n",
       "      <td>85735</td>\n",
       "      <td>770.0</td>\n",
       "    </tr>\n",
       "    <tr>\n",
       "      <th>984141</th>\n",
       "      <td>2021-01-31</td>\n",
       "      <td>Mecklenburg</td>\n",
       "      <td>North Carolina</td>\n",
       "      <td>86394</td>\n",
       "      <td>777.0</td>\n",
       "    </tr>\n",
       "    <tr>\n",
       "      <th>987388</th>\n",
       "      <td>2021-02-01</td>\n",
       "      <td>Mecklenburg</td>\n",
       "      <td>North Carolina</td>\n",
       "      <td>86860</td>\n",
       "      <td>786.0</td>\n",
       "    </tr>\n",
       "    <tr>\n",
       "      <th>990634</th>\n",
       "      <td>2021-02-02</td>\n",
       "      <td>Mecklenburg</td>\n",
       "      <td>North Carolina</td>\n",
       "      <td>87233</td>\n",
       "      <td>793.0</td>\n",
       "    </tr>\n",
       "  </tbody>\n",
       "</table>\n",
       "</div>"
      ],
      "text/plain": [
       "             date       county           state  cases  deaths\n",
       "928970 2021-01-14  Mecklenburg  North Carolina  74587   675.0\n",
       "932215 2021-01-15  Mecklenburg  North Carolina  75482   683.0\n",
       "935460 2021-01-16  Mecklenburg  North Carolina  76542   683.0\n",
       "938705 2021-01-17  Mecklenburg  North Carolina  77030   691.0\n",
       "941950 2021-01-18  Mecklenburg  North Carolina  77257   697.0\n",
       "945196 2021-01-19  Mecklenburg  North Carolina  78258   707.0\n",
       "948443 2021-01-20  Mecklenburg  North Carolina  78888   716.0\n",
       "951688 2021-01-21  Mecklenburg  North Carolina  79623   721.0\n",
       "954933 2021-01-22  Mecklenburg  North Carolina  80555   726.0\n",
       "958179 2021-01-23  Mecklenburg  North Carolina  81179   726.0\n",
       "961424 2021-01-24  Mecklenburg  North Carolina  81933   739.0\n",
       "964669 2021-01-25  Mecklenburg  North Carolina  82578   747.0\n",
       "967913 2021-01-26  Mecklenburg  North Carolina  83209   754.0\n",
       "971158 2021-01-27  Mecklenburg  North Carolina  83816   756.0\n",
       "974403 2021-01-28  Mecklenburg  North Carolina  84444   766.0\n",
       "977648 2021-01-29  Mecklenburg  North Carolina  85109   770.0\n",
       "980894 2021-01-30  Mecklenburg  North Carolina  85735   770.0\n",
       "984141 2021-01-31  Mecklenburg  North Carolina  86394   777.0\n",
       "987388 2021-02-01  Mecklenburg  North Carolina  86860   786.0\n",
       "990634 2021-02-02  Mecklenburg  North Carolina  87233   793.0"
      ]
     },
     "execution_count": 6,
     "metadata": {},
     "output_type": "execute_result"
    }
   ],
   "source": [
    "Charlotte_timeline.tail(20)"
   ]
  },
  {
   "cell_type": "code",
   "execution_count": 15,
   "id": "prerequisite-gazette",
   "metadata": {
    "scrolled": true
   },
   "outputs": [
    {
     "data": {
      "text/html": [
       "<div>\n",
       "<style scoped>\n",
       "    .dataframe tbody tr th:only-of-type {\n",
       "        vertical-align: middle;\n",
       "    }\n",
       "\n",
       "    .dataframe tbody tr th {\n",
       "        vertical-align: top;\n",
       "    }\n",
       "\n",
       "    .dataframe thead th {\n",
       "        text-align: right;\n",
       "    }\n",
       "</style>\n",
       "<table border=\"1\" class=\"dataframe\">\n",
       "  <thead>\n",
       "    <tr style=\"text-align: right;\">\n",
       "      <th></th>\n",
       "      <th>date</th>\n",
       "      <th>county</th>\n",
       "      <th>state</th>\n",
       "      <th>cases</th>\n",
       "      <th>deaths</th>\n",
       "      <th>Month</th>\n",
       "    </tr>\n",
       "  </thead>\n",
       "  <tbody>\n",
       "    <tr>\n",
       "      <th>1532</th>\n",
       "      <td>2020-03-12</td>\n",
       "      <td>Mecklenburg</td>\n",
       "      <td>North Carolina</td>\n",
       "      <td>2</td>\n",
       "      <td>0.0</td>\n",
       "      <td>3</td>\n",
       "    </tr>\n",
       "    <tr>\n",
       "      <th>1826</th>\n",
       "      <td>2020-03-13</td>\n",
       "      <td>Mecklenburg</td>\n",
       "      <td>North Carolina</td>\n",
       "      <td>2</td>\n",
       "      <td>0.0</td>\n",
       "      <td>3</td>\n",
       "    </tr>\n",
       "    <tr>\n",
       "      <th>2180</th>\n",
       "      <td>2020-03-14</td>\n",
       "      <td>Mecklenburg</td>\n",
       "      <td>North Carolina</td>\n",
       "      <td>2</td>\n",
       "      <td>0.0</td>\n",
       "      <td>3</td>\n",
       "    </tr>\n",
       "    <tr>\n",
       "      <th>2592</th>\n",
       "      <td>2020-03-15</td>\n",
       "      <td>Mecklenburg</td>\n",
       "      <td>North Carolina</td>\n",
       "      <td>4</td>\n",
       "      <td>0.0</td>\n",
       "      <td>3</td>\n",
       "    </tr>\n",
       "    <tr>\n",
       "      <th>3054</th>\n",
       "      <td>2020-03-16</td>\n",
       "      <td>Mecklenburg</td>\n",
       "      <td>North Carolina</td>\n",
       "      <td>4</td>\n",
       "      <td>0.0</td>\n",
       "      <td>3</td>\n",
       "    </tr>\n",
       "  </tbody>\n",
       "</table>\n",
       "</div>"
      ],
      "text/plain": [
       "           date       county           state  cases  deaths  Month\n",
       "1532 2020-03-12  Mecklenburg  North Carolina      2     0.0      3\n",
       "1826 2020-03-13  Mecklenburg  North Carolina      2     0.0      3\n",
       "2180 2020-03-14  Mecklenburg  North Carolina      2     0.0      3\n",
       "2592 2020-03-15  Mecklenburg  North Carolina      4     0.0      3\n",
       "3054 2020-03-16  Mecklenburg  North Carolina      4     0.0      3"
      ]
     },
     "execution_count": 15,
     "metadata": {},
     "output_type": "execute_result"
    }
   ],
   "source": [
    "#Filter dates from March to May\n",
    "Charlotte_timeline['Month']= Charlotte_timeline['date'].dt.month\n",
    "Charlotte_df = Charlotte_timeline[(Charlotte_timeline['date'].dt.month == 3) | (Charlotte_timeline['date'].dt.month == 4) | (Charlotte_timeline['date'].dt.month == 5)]\n",
    "Charlotte_df.head(5)"
   ]
  },
  {
   "cell_type": "code",
   "execution_count": 27,
   "id": "rising-footwear",
   "metadata": {},
   "outputs": [
    {
     "data": {
      "text/plain": [
       "<BarContainer object of 81 artists>"
      ]
     },
     "execution_count": 27,
     "metadata": {},
     "output_type": "execute_result"
    },
    {
     "data": {
      "image/png": "[encoded data removed]",
      "text/plain": [
       "<Figure size 432x288 with 1 Axes>"
      ]
     },
     "metadata": {
      "needs_background": "light"
     },
     "output_type": "display_data"
    }
   ],
   "source": [
    "#Mecklenburg County Bar Chart (Covid 19 Cases)\n",
    "plt.xticks(rotation=90)\n",
    "plt.xlabel(\"Timeline from March to May\")\n",
    "plt.ylabel(\"Number of cases\")\n",
    "plt.title(\"Covid 19 Cases in Mecklenburg County\")\n",
    "plt.bar(Charlotte_df['date'],Charlotte_df['cases'])"
   ]
  },
  {
   "cell_type": "code",
   "execution_count": 8,
   "id": "essential-protection",
   "metadata": {},
   "outputs": [
    {
     "data": {
      "text/plain": [
       "<BarContainer object of 81 artists>"
      ]
     },
     "execution_count": 8,
     "metadata": {},
     "output_type": "execute_result"
    },
    {
     "data": {
      "image/png": "[encoded data removed]",
      "text/plain": [
       "<Figure size 432x288 with 1 Axes>"
      ]
     },
     "metadata": {
      "needs_background": "light"
     },
     "output_type": "display_data"
    }
   ],
   "source": [
    "#Mecklenburg County Bar Chart (Covid 19 Deaths)\n",
    "plt.xticks(rotation=90)\n",
    "plt.xlabel(\"Timeline from March to May\")\n",
    "plt.ylabel(\"Number of deaths\")\n",
    "plt.title(\"Covid 19 Deaths in Mecklenburg County\")\n",
    "plt.bar(Charlotte_df['date'],Charlotte_df['deaths'])"
   ]
  },
  {
   "cell_type": "code",
   "execution_count": 11,
   "id": "endless-colony",
   "metadata": {},
   "outputs": [
    {
     "data": {
      "text/html": [
       "<div>\n",
       "<style scoped>\n",
       "    .dataframe tbody tr th:only-of-type {\n",
       "        vertical-align: middle;\n",
       "    }\n",
       "\n",
       "    .dataframe tbody tr th {\n",
       "        vertical-align: top;\n",
       "    }\n",
       "\n",
       "    .dataframe thead th {\n",
       "        text-align: right;\n",
       "    }\n",
       "</style>\n",
       "<table border=\"1\" class=\"dataframe\">\n",
       "  <thead>\n",
       "    <tr style=\"text-align: right;\">\n",
       "      <th></th>\n",
       "      <th>date</th>\n",
       "      <th>county</th>\n",
       "      <th>state</th>\n",
       "      <th>fips</th>\n",
       "      <th>cases</th>\n",
       "      <th>deaths</th>\n",
       "    </tr>\n",
       "  </thead>\n",
       "  <tbody>\n",
       "    <tr>\n",
       "      <th>483</th>\n",
       "      <td>2020-03-03</td>\n",
       "      <td>Wake</td>\n",
       "      <td>North Carolina</td>\n",
       "      <td>37183.0</td>\n",
       "      <td>1</td>\n",
       "      <td>0.0</td>\n",
       "    </tr>\n",
       "  </tbody>\n",
       "</table>\n",
       "</div>"
      ],
      "text/plain": [
       "           date county           state     fips  cases  deaths\n",
       "483  2020-03-03   Wake  North Carolina  37183.0      1     0.0"
      ]
     },
     "execution_count": 11,
     "metadata": {},
     "output_type": "execute_result"
    }
   ],
   "source": [
    "#Filter North Carolina to main counties(Charlotte , Raleigh, Asheville)\n",
    "NC_County.head(2)\n",
    "CH_RA_AS_df = NC_County[(NC_County['county']  == 'Mecklenburg') | (NC_County['county']  == 'Wake') | (NC_County['county']  =='Buncombe')]\n",
    "CH_RA_AS_df.head(1)"
   ]
  },
  {
   "cell_type": "code",
   "execution_count": 24,
   "id": "laden-image",
   "metadata": {
    "scrolled": false
   },
   "outputs": [
    {
     "ename": "NameError",
     "evalue": "name 'matplotlib' is not defined",
     "output_type": "error",
     "traceback": [
      "\u001b[0;31m---------------------------------------------------------------------------\u001b[0m",
      "\u001b[0;31mNameError\u001b[0m                                 Traceback (most recent call last)",
      "\u001b[0;32m<ipython-input-24-94f5743ce6cc>\u001b[0m in \u001b[0;36m<module>\u001b[0;34m\u001b[0m\n\u001b[1;32m      7\u001b[0m \u001b[0mplt\u001b[0m\u001b[0;34m.\u001b[0m\u001b[0mtitle\u001b[0m\u001b[0;34m(\u001b[0m\u001b[0;34m\"Covid 19 Cases in the Main NC Counties\"\u001b[0m\u001b[0;34m)\u001b[0m\u001b[0;34m\u001b[0m\u001b[0;34m\u001b[0m\u001b[0m\n\u001b[1;32m      8\u001b[0m \u001b[0mplt\u001b[0m\u001b[0;34m.\u001b[0m\u001b[0mbar\u001b[0m\u001b[0;34m(\u001b[0m\u001b[0mx_axis\u001b[0m\u001b[0;34m,\u001b[0m\u001b[0my_axis\u001b[0m\u001b[0;34m)\u001b[0m\u001b[0;34m\u001b[0m\u001b[0;34m\u001b[0m\u001b[0m\n\u001b[0;32m----> 9\u001b[0;31m \u001b[0mmatplotlib\u001b[0m\u001b[0;34m.\u001b[0m \u001b[0mpyplot\u001b[0m\u001b[0;34m.\u001b[0m \u001b[0mtick_params\u001b[0m\u001b[0;34m(\u001b[0m\u001b[0maxis\u001b[0m \u001b[0;34m=\u001b[0m \u001b[0;32mNone\u001b[0m\u001b[0;34m,\u001b[0m \u001b[0mwhich\u001b[0m \u001b[0;34m=\u001b[0m \u001b[0;32mNone\u001b[0m\u001b[0;34m,\u001b[0m \u001b[0mbottom\u001b[0m \u001b[0;34m=\u001b[0m \u001b[0;32mNone\u001b[0m\u001b[0;34m,\u001b[0m \u001b[0mtop\u001b[0m \u001b[0;34m=\u001b[0m \u001b[0;32mNone\u001b[0m\u001b[0;34m)\u001b[0m\u001b[0;34m\u001b[0m\u001b[0;34m\u001b[0m\u001b[0m\n\u001b[0m",
      "\u001b[0;31mNameError\u001b[0m: name 'matplotlib' is not defined"
     ]
    },
    {
     "data": {
      "image/png": "[encoded data removed]",
      "text/plain": [
       "<Figure size 432x288 with 1 Axes>"
      ]
     },
     "metadata": {
      "needs_background": "light"
     },
     "output_type": "display_data"
    }
   ],
   "source": [
    "#Main Counties Bar Chart (Covid 19 Cases)\n",
    "#plt.xticks(rotation=90)\n",
    "x_axis=CH_RA_AS_df['date']\n",
    "y_axis=CH_RA_AS_df['cases']\n",
    "plt.xlabel(\"Timeline from March to May\")\n",
    "plt.ylabel(\"Number of cases\")\n",
    "plt.title(\"Covid 19 Cases in the Main NC Counties\")\n",
    "pylplot()bar(x_axis,y_axis)\n",
    "matplotlib. pyplot. tick_params(axis = None, which = None, bottom = None, top = None) "
   ]
  },
  {
   "cell_type": "code",
   "execution_count": 12,
   "id": "announced-convenience",
   "metadata": {},
   "outputs": [
    {
     "data": {
      "text/plain": [
       "<BarContainer object of 984 artists>"
      ]
     },
     "execution_count": 12,
     "metadata": {},
     "output_type": "execute_result"
    },
    {
     "data": {
      "image/png": "[encoded data removed]",
      "text/plain": [
       "<Figure size 432x288 with 1 Axes>"
      ]
     },
     "metadata": {
      "needs_background": "light"
     },
     "output_type": "display_data"
    }
   ],
   "source": [
    "#Main Counties Bar Chart (Covid 19 Deaths)\n",
    "plt.xticks(rotation=90)\n",
    "x_axis=CH_RA_AS_df['date']\n",
    "y_axis=CH_RA_AS_df['deaths']\n",
    "plt.xlabel(\"Timeline from March to May\")\n",
    "plt.ylabel(\"Number of deaths\")\n",
    "plt.title(\"Covid 19 Deaths in the Main NC Counties\")\n",
    "plt.bar(x_axis,y_axis)"
   ]
  },
  {
   "cell_type": "code",
   "execution_count": null,
   "id": "owned-range",
   "metadata": {},
   "outputs": [],
   "source": []
  }
 ],
 "metadata": {
  "kernelspec": {
   "display_name": "PhytonData",
   "language": "python",
   "name": "phytondata"
  },
  "language_info": {
   "codemirror_mode": {
    "name": "ipython",
    "version": 3
   },
   "file_extension": ".py",
   "mimetype": "text/x-python",
   "name": "python",
   "nbconvert_exporter": "python",
   "pygments_lexer": "ipython3",
   "version": "3.6.12"
  }
 },
 "nbformat": 4,
 "nbformat_minor": 5
}
