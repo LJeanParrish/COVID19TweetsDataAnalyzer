{
 "cells": [
  {
   "cell_type": "code",
   "execution_count": 2,
   "metadata": {},
   "outputs": [],
   "source": [
    "import tweepy\n",
    "import pandas as pd"
   ]
  },
  {
   "cell_type": "code",
   "execution_count": 5,
   "metadata": {},
   "outputs": [],
   "source": [
    "#those variables need to add config \n",
    "#Variables that contains the user credentials to access Twitter API\n",
    "access_token = \"1357146000423596032-qS09h1eCqAj6YOwQ2urIg42hdFTdHk\"\n",
    "access_token_secret = \"rl2Bz6BrVFBMhuQGQlcaND3zWyKBFQ8VKGejt1tKuissE\"\n",
    "consumer_key = \"TowbEZZ6M8nByxO1c3HsGMcKc\"\n",
    "consumer_secret = \"z7t0Z8AcgsODOKGYiiD8I5slVpKsNOMnP3YY5JxIw84dR5vWzq\"\n"
   ]
  },
  {
   "cell_type": "code",
   "execution_count": 6,
   "metadata": {},
   "outputs": [],
   "source": [
    "# creating authentication \n",
    "auth = tweepy.OAuthHandler(consumer_key, consumer_secret)\n",
    "auth.set_access_token(access_token, access_token_secret)\n"
   ]
  },
  {
   "cell_type": "code",
   "execution_count": 7,
   "metadata": {},
   "outputs": [],
   "source": [
    "# connecting to the Twitter API using the above authentication\n",
    "api = tweepy.API(auth)"
   ]
  },
  {
   "cell_type": "code",
   "execution_count": 8,
   "metadata": {},
   "outputs": [],
   "source": [
    "#for filter \n",
    "cities_data = {\n",
    "'Charlotte': {'region': 'Midwest', 'state': 'North Carolina'},\n",
    "'Raleigh': {'region': 'East', 'state': 'North Carolina'},\n",
    "}\n"
   ]
  },
  {
   "cell_type": "code",
   "execution_count": 9,
   "metadata": {},
   "outputs": [],
   "source": [
    "# we want to see pandemic related tweets\n",
    "q = 'covid19 OR covid or pandemic'\n"
   ]
  },
  {
   "cell_type": "code",
   "execution_count": 11,
   "metadata": {},
   "outputs": [
    {
     "data": {
      "text/html": [
       "<div>\n",
       "<style scoped>\n",
       "    .dataframe tbody tr th:only-of-type {\n",
       "        vertical-align: middle;\n",
       "    }\n",
       "\n",
       "    .dataframe tbody tr th {\n",
       "        vertical-align: top;\n",
       "    }\n",
       "\n",
       "    .dataframe thead th {\n",
       "        text-align: right;\n",
       "    }\n",
       "</style>\n",
       "<table border=\"1\" class=\"dataframe\">\n",
       "  <thead>\n",
       "    <tr style=\"text-align: right;\">\n",
       "      <th></th>\n",
       "    </tr>\n",
       "  </thead>\n",
       "  <tbody>\n",
       "  </tbody>\n",
       "</table>\n",
       "</div>"
      ],
      "text/plain": [
       "Empty DataFrame\n",
       "Columns: []\n",
       "Index: []"
      ]
     },
     "execution_count": 11,
     "metadata": {},
     "output_type": "execute_result"
    }
   ],
   "source": [
    "# define a function to convert a list of tweets into a pandas dataframe\n",
    "def toDataFrame(tweets):\n",
    "    df = pd.DataFrame()\n",
    "    df['tweetID'] = [tweet.id for tweet in tweets]\n",
    "    df['tweetText'] = [tweet.text for tweet in tweets]\n",
    "    df['tweetRetweetCt'] = [tweet.retweet_count for tweet in tweets]\n",
    "    df['tweetFavoriteCt'] = [tweet.favorite_count for tweet in tweets]\n",
    "    df['tweetSource'] = [tweet.source for tweet in tweets]\n",
    "    df['tweetCreated'] = [tweet.created_at for tweet in tweets]\n",
    "    df['userID'] = [tweet.user.id for tweet in tweets]\n",
    "    df['userScreen'] = [tweet.user.screen_name for tweet in tweets]\n",
    "    df['userName'] = [tweet.user.name for tweet in tweets]\n",
    "    df['userCreateDt'] = [tweet.user.created_at for tweet in tweets]\n",
    "    df['userDesc'] = [tweet.user.description for tweet in tweets]\n",
    "    df['userFollowerCt'] = [tweet.user.followers_count for tweet in tweets]\n",
    "    df['userFollowingCt'] = [tweet.user.friends_count for tweet in tweets]\n",
    "    df['userLocation'] = [tweet.user.location for tweet in tweets]\n",
    "    df['userTimezone'] = [tweet.user.time_zone for tweet in tweets]\n",
    "    df['coordinates'] = [tweet.coordinates for tweet in tweets]\n",
    "    df['geolocation'] = [tweet.geo for tweet in tweets]\n",
    "    df['place'] = [tweet.place for tweet in tweets]\n",
    "    return df\n",
    "\n",
    "tweets_df = pd.DataFrame() # initialize an empty global dataframe\n",
    "tweets_df.head()"
   ]
  },
  {
   "cell_type": "code",
   "execution_count": 12,
   "metadata": {},
   "outputs": [
    {
     "ename": "AttributeError",
     "evalue": "'dict' object has no attribute 'iteritems'",
     "output_type": "error",
     "traceback": [
      "\u001b[0;31m---------------------------------------------------------------------------\u001b[0m",
      "\u001b[0;31mAttributeError\u001b[0m                            Traceback (most recent call last)",
      "\u001b[0;32m<ipython-input-12-1f32dcbb034d>\u001b[0m in \u001b[0;36m<module>\u001b[0;34m\u001b[0m\n\u001b[1;32m      1\u001b[0m \u001b[0;31m# loop through the dictionary of cities_data and retrieve the tweets in\u001b[0m\u001b[0;34m\u001b[0m\u001b[0;34m\u001b[0m\u001b[0;34m\u001b[0m\u001b[0m\n\u001b[1;32m      2\u001b[0m \u001b[0;31m# each city\u001b[0m\u001b[0;34m\u001b[0m\u001b[0;34m\u001b[0m\u001b[0;34m\u001b[0m\u001b[0m\n\u001b[0;32m----> 3\u001b[0;31m \u001b[0;32mfor\u001b[0m \u001b[0mcity\u001b[0m\u001b[0;34m,\u001b[0m \u001b[0mcity_data\u001b[0m \u001b[0;32min\u001b[0m \u001b[0mcities_data\u001b[0m\u001b[0;34m.\u001b[0m\u001b[0miteritems\u001b[0m\u001b[0;34m(\u001b[0m\u001b[0;34m)\u001b[0m\u001b[0;34m:\u001b[0m\u001b[0;34m\u001b[0m\u001b[0;34m\u001b[0m\u001b[0m\n\u001b[0m\u001b[1;32m      4\u001b[0m \u001b[0;34m\u001b[0m\u001b[0m\n\u001b[1;32m      5\u001b[0m     \u001b[0;31m# get the city's place_id\u001b[0m\u001b[0;34m\u001b[0m\u001b[0;34m\u001b[0m\u001b[0;34m\u001b[0m\u001b[0m\n",
      "\u001b[0;31mAttributeError\u001b[0m: 'dict' object has no attribute 'iteritems'"
     ]
    }
   ],
   "source": [
    "# loop through the dictionary of cities_data and retrieve the tweets in \n",
    "# each city\n",
    "for city, city_data in cities_data.iteritems():\n",
    "\n",
    "    # get the city's place_id\n",
    "    city_id = api.geo_search(\n",
    "        query='{}'.format(city), \n",
    "        wait_on_rate_limit=True, \n",
    "        granularity='city'\n",
    "    )[0].id\n",
    "    cities_data[city]['id'] = city_id\n",
    "\n",
    "    city_tweets = [] # create an empty list to contain all the tweets\n",
    "\n",
    "    # get the tweets in each city\n",
    "    for tweet in tweepy.Cursor(api.search, q=q + '-filter:retweets', contained_within=city_id, granularity='city', wait_on_rate_limit=True, lang=\"en\").items(10):    \n",
    "        city_tweets.append(tweet)\n",
    "\n",
    "    # convert list of tweets into a pandas dataframe of tweets\n",
    "    city_tweets_df = toDataFrame(city_tweets)\n",
    "\n",
    "    # append each row with city name, state name, and region.\n",
    "    city_tweets_df['city'] = city\n",
    "    city_tweets_df['state'] = city_data['state']\n",
    "    city_tweets_df['region'] = city_data['region']\n",
    "\n",
    "    # add city dataframe to global dataframe\n",
    "    tweets_df = tweets_df.append(city_tweets_df, ignore_index=True)\n"
   ]
  },
  {
   "cell_type": "code",
   "execution_count": null,
   "metadata": {},
   "outputs": [],
   "source": []
  }
 ],
 "metadata": {
  "kernelspec": {
   "display_name": "Python 3",
   "language": "python",
   "name": "python3"
  },
  "language_info": {
   "codemirror_mode": {
    "name": "ipython",
    "version": 3
   },
   "file_extension": ".py",
   "mimetype": "text/x-python",
   "name": "python",
   "nbconvert_exporter": "python",
   "pygments_lexer": "ipython3",
   "version": "3.8.5"
  }
 },
 "nbformat": 4,
 "nbformat_minor": 4
}
