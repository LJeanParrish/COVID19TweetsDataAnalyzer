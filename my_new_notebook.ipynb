{
 "cells": [
  {
   "cell_type": "code",
   "execution_count": 1,
   "metadata": {},
   "outputs": [],
   "source": [
    "import pandas as pd\n",
    "import matplotlib.pyplot as plt\n",
    "import os\n",
    "import numpy as np\n",
    "import seaborn as sns\n",
    "sns.set_theme(style=\"darkgrid\")"
   ]
  },
  {
   "cell_type": "code",
   "execution_count": 2,
   "metadata": {},
   "outputs": [],
   "source": [
    "file1 = 'twitterapi/030120.csv'\n",
    "file2 = 'twitterapi/031520.csv'\n",
    "file3 = 'twitterapi/040120.csv'\n",
    "file4 = 'twitterapi/041520.csv'\n",
    "file5 = 'twitterapi/050120.csv'\n",
    "file6 = 'twitterapi/051520.csv'"
   ]
  },
  {
   "cell_type": "code",
   "execution_count": 3,
   "metadata": {},
   "outputs": [
    {
     "name": "stderr",
     "output_type": "stream",
     "text": [
      "/Users/jameswhite/opt/anaconda3/envs/PythonData/lib/python3.6/site-packages/IPython/core/interactiveshell.py:3072: DtypeWarning: Columns (0) have mixed types.Specify dtype option on import or set low_memory=False.\n",
      "  interactivity=interactivity, compiler=compiler, result=result)\n"
     ]
    }
   ],
   "source": [
    "twitter_mar_01 = pd.read_csv(file1)\n",
    "twitter_mar_15 = pd.read_csv(file2)\n",
    "twitter_apr_01 = pd.read_csv(file3)\n",
    "twitter_apr_15 = pd.read_csv(file4)\n",
    "twitter_may_01 = pd.read_csv(file5)\n",
    "twitter_may_15 = pd.read_csv(file6)"
   ]
  },
  {
   "cell_type": "code",
   "execution_count": 4,
   "metadata": {},
   "outputs": [
    {
     "data": {
      "text/plain": [
       "coordinates                    object\n",
       "created_at                     object\n",
       "hashtags                       object\n",
       "media                          object\n",
       "urls                           object\n",
       "favorite_count                  int64\n",
       "id                              int64\n",
       "in_reply_to_screen_name        object\n",
       "in_reply_to_status_id         float64\n",
       "in_reply_to_user_id           float64\n",
       "lang                           object\n",
       "place                          object\n",
       "possibly_sensitive             object\n",
       "retweet_count                   int64\n",
       "retweet_id                    float64\n",
       "retweet_screen_name            object\n",
       "source                         object\n",
       "text                           object\n",
       "tweet_url                      object\n",
       "user_created_at                object\n",
       "user_screen_name               object\n",
       "user_default_profile_image       bool\n",
       "user_description               object\n",
       "user_favourites_count           int64\n",
       "user_followers_count            int64\n",
       "user_friends_count              int64\n",
       "user_listed_count               int64\n",
       "user_location                  object\n",
       "user_name                      object\n",
       "user_screen_name.1             object\n",
       "user_statuses_count             int64\n",
       "user_time_zone                float64\n",
       "user_urls                      object\n",
       "user_verified                    bool\n",
       "dtype: object"
      ]
     },
     "execution_count": 4,
     "metadata": {},
     "output_type": "execute_result"
    }
   ],
   "source": [
    "twitter_mar_01.dtypes"
   ]
  },
  {
   "cell_type": "code",
   "execution_count": 5,
   "metadata": {},
   "outputs": [],
   "source": [
    "twitter_mar_01 = twitter_mar_01[['id', 'created_at', 'place', 'retweet_count']]\n",
    "twitter_mar_01['created_at'] = [x.split('12')[0] for x in twitter_mar_01['created_at']]\n",
    "twitter_mar_15 = twitter_mar_15[['id', 'created_at', 'place', 'retweet_count']]\n",
    "twitter_mar_15['created_at'] = [x.split('12')[0] for x in twitter_mar_15['created_at']]\n",
    "twitter_apr_01 = twitter_apr_01[['id', 'created_at', 'place', 'retweet_count']]\n",
    "twitter_apr_01['created_at'] = [x.split('12')[0] for x in twitter_apr_01['created_at']]\n",
    "twitter_apr_15 = twitter_apr_15[['id', 'created_at', 'place', 'retweet_count']]\n",
    "twitter_apr_15['created_at'] = [x.split('12')[0] for x in twitter_apr_15['created_at']]\n",
    "twitter_may_01 = twitter_may_01[['id', 'created_at', 'place', 'retweet_count']]\n",
    "twitter_may_01['created_at'] = [x.split('12')[0] for x in twitter_may_01['created_at']]\n",
    "twitter_may_15 = twitter_may_15[['id', 'created_at', 'place', 'retweet_count']]\n",
    "twitter_may_15['created_at'] = [x.split('12')[0] for x in twitter_may_15['created_at']]"
   ]
  },
  {
   "cell_type": "code",
   "execution_count": 6,
   "metadata": {},
   "outputs": [],
   "source": [
    "twitter_mar = twitter_mar_01.merge(twitter_mar_15, how='outer')\n",
    "twitter_apr = twitter_apr_01.merge(twitter_apr_15, how='outer')\n",
    "twitter_may = twitter_may_01.merge(twitter_may_15, how='outer')"
   ]
  },
  {
   "cell_type": "code",
   "execution_count": 7,
   "metadata": {},
   "outputs": [],
   "source": [
    "march = twitter_mar[twitter_mar['place'].notna()]"
   ]
  },
  {
   "cell_type": "code",
   "execution_count": 8,
   "metadata": {},
   "outputs": [
    {
     "data": {
      "text/html": [
       "<div>\n",
       "<style scoped>\n",
       "    .dataframe tbody tr th:only-of-type {\n",
       "        vertical-align: middle;\n",
       "    }\n",
       "\n",
       "    .dataframe tbody tr th {\n",
       "        vertical-align: top;\n",
       "    }\n",
       "\n",
       "    .dataframe thead th {\n",
       "        text-align: right;\n",
       "    }\n",
       "</style>\n",
       "<table border=\"1\" class=\"dataframe\">\n",
       "  <thead>\n",
       "    <tr style=\"text-align: right;\">\n",
       "      <th></th>\n",
       "      <th>id</th>\n",
       "      <th>created_at</th>\n",
       "      <th>place</th>\n",
       "      <th>retweet_count</th>\n",
       "    </tr>\n",
       "  </thead>\n",
       "  <tbody>\n",
       "    <tr>\n",
       "      <th>66</th>\n",
       "      <td>1234090090743451650</td>\n",
       "      <td>Sun Mar 01</td>\n",
       "      <td>Pennsylvania, USA</td>\n",
       "      <td>0</td>\n",
       "    </tr>\n",
       "    <tr>\n",
       "      <th>232</th>\n",
       "      <td>1234090114340487174</td>\n",
       "      <td>Sun Mar 01</td>\n",
       "      <td>Rovereto, Trentino-Alto Adige</td>\n",
       "      <td>0</td>\n",
       "    </tr>\n",
       "    <tr>\n",
       "      <th>485</th>\n",
       "      <td>1234090142169780225</td>\n",
       "      <td>Sun Mar 01</td>\n",
       "      <td>Hillsdale, NJ</td>\n",
       "      <td>0</td>\n",
       "    </tr>\n",
       "    <tr>\n",
       "      <th>605</th>\n",
       "      <td>1234090154408673283</td>\n",
       "      <td>Sun Mar 01</td>\n",
       "      <td>Annot, France</td>\n",
       "      <td>0</td>\n",
       "    </tr>\n",
       "    <tr>\n",
       "      <th>641</th>\n",
       "      <td>1234090163418148864</td>\n",
       "      <td>Sun Mar 01</td>\n",
       "      <td>Wandsworth, London</td>\n",
       "      <td>0</td>\n",
       "    </tr>\n",
       "    <tr>\n",
       "      <th>...</th>\n",
       "      <td>...</td>\n",
       "      <td>...</td>\n",
       "      <td>...</td>\n",
       "      <td>...</td>\n",
       "    </tr>\n",
       "    <tr>\n",
       "      <th>98926</th>\n",
       "      <td>1239171230273548289</td>\n",
       "      <td>Sun Mar 15</td>\n",
       "      <td>San Antonio, TX</td>\n",
       "      <td>0</td>\n",
       "    </tr>\n",
       "    <tr>\n",
       "      <th>99001</th>\n",
       "      <td>1239171238788050944</td>\n",
       "      <td>Sun Mar 15</td>\n",
       "      <td>Woking, South East</td>\n",
       "      <td>0</td>\n",
       "    </tr>\n",
       "    <tr>\n",
       "      <th>99028</th>\n",
       "      <td>1239171238515421184</td>\n",
       "      <td>Sun Mar 15</td>\n",
       "      <td>Zutphen, Nederland</td>\n",
       "      <td>8</td>\n",
       "    </tr>\n",
       "    <tr>\n",
       "      <th>99034</th>\n",
       "      <td>1239171234623037440</td>\n",
       "      <td>Sun Mar 15</td>\n",
       "      <td>Mendoza, Argentina</td>\n",
       "      <td>0</td>\n",
       "    </tr>\n",
       "    <tr>\n",
       "      <th>99067</th>\n",
       "      <td>1239171238712553472</td>\n",
       "      <td>Sun Mar 15</td>\n",
       "      <td>British Virgin Islands</td>\n",
       "      <td>0</td>\n",
       "    </tr>\n",
       "  </tbody>\n",
       "</table>\n",
       "<p>711 rows × 4 columns</p>\n",
       "</div>"
      ],
      "text/plain": [
       "                        id   created_at                          place  \\\n",
       "66     1234090090743451650  Sun Mar 01               Pennsylvania, USA   \n",
       "232    1234090114340487174  Sun Mar 01   Rovereto, Trentino-Alto Adige   \n",
       "485    1234090142169780225  Sun Mar 01                   Hillsdale, NJ   \n",
       "605    1234090154408673283  Sun Mar 01                   Annot, France   \n",
       "641    1234090163418148864  Sun Mar 01              Wandsworth, London   \n",
       "...                    ...          ...                            ...   \n",
       "98926  1239171230273548289  Sun Mar 15                 San Antonio, TX   \n",
       "99001  1239171238788050944  Sun Mar 15              Woking, South East   \n",
       "99028  1239171238515421184  Sun Mar 15              Zutphen, Nederland   \n",
       "99034  1239171234623037440  Sun Mar 15              Mendoza, Argentina   \n",
       "99067  1239171238712553472  Sun Mar 15          British Virgin Islands   \n",
       "\n",
       "       retweet_count  \n",
       "66                 0  \n",
       "232                0  \n",
       "485                0  \n",
       "605                0  \n",
       "641                0  \n",
       "...              ...  \n",
       "98926              0  \n",
       "99001              0  \n",
       "99028              8  \n",
       "99034              0  \n",
       "99067              0  \n",
       "\n",
       "[711 rows x 4 columns]"
      ]
     },
     "execution_count": 8,
     "metadata": {},
     "output_type": "execute_result"
    }
   ],
   "source": [
    "march"
   ]
  },
  {
   "cell_type": "code",
   "execution_count": 9,
   "metadata": {},
   "outputs": [],
   "source": [
    "april = twitter_apr[twitter_apr['place'].notna()]"
   ]
  },
  {
   "cell_type": "code",
   "execution_count": 10,
   "metadata": {},
   "outputs": [
    {
     "data": {
      "text/html": [
       "<div>\n",
       "<style scoped>\n",
       "    .dataframe tbody tr th:only-of-type {\n",
       "        vertical-align: middle;\n",
       "    }\n",
       "\n",
       "    .dataframe tbody tr th {\n",
       "        vertical-align: top;\n",
       "    }\n",
       "\n",
       "    .dataframe thead th {\n",
       "        text-align: right;\n",
       "    }\n",
       "</style>\n",
       "<table border=\"1\" class=\"dataframe\">\n",
       "  <thead>\n",
       "    <tr style=\"text-align: right;\">\n",
       "      <th></th>\n",
       "      <th>id</th>\n",
       "      <th>created_at</th>\n",
       "      <th>place</th>\n",
       "      <th>retweet_count</th>\n",
       "    </tr>\n",
       "  </thead>\n",
       "  <tbody>\n",
       "    <tr>\n",
       "      <th>25</th>\n",
       "      <td>1245322458921676801</td>\n",
       "      <td>Wed Apr 01</td>\n",
       "      <td>Crediton, England</td>\n",
       "      <td>0</td>\n",
       "    </tr>\n",
       "    <tr>\n",
       "      <th>46</th>\n",
       "      <td>1245322458149933062</td>\n",
       "      <td>Wed Apr 01</td>\n",
       "      <td>West Midlands, England</td>\n",
       "      <td>0</td>\n",
       "    </tr>\n",
       "    <tr>\n",
       "      <th>155</th>\n",
       "      <td>1245322470808223745</td>\n",
       "      <td>Wed Apr 01</td>\n",
       "      <td>Tuusula, Suomi</td>\n",
       "      <td>1</td>\n",
       "    </tr>\n",
       "    <tr>\n",
       "      <th>305</th>\n",
       "      <td>1245322487421755392</td>\n",
       "      <td>Wed Apr 01</td>\n",
       "      <td>Nairobi, Kenya</td>\n",
       "      <td>0</td>\n",
       "    </tr>\n",
       "    <tr>\n",
       "      <th>362</th>\n",
       "      <td>1245322496162717696</td>\n",
       "      <td>Wed Apr 01</td>\n",
       "      <td>Vijayawada, India</td>\n",
       "      <td>0</td>\n",
       "    </tr>\n",
       "    <tr>\n",
       "      <th>...</th>\n",
       "      <td>...</td>\n",
       "      <td>...</td>\n",
       "      <td>...</td>\n",
       "      <td>...</td>\n",
       "    </tr>\n",
       "    <tr>\n",
       "      <th>75223</th>\n",
       "      <td>1250407305306238976</td>\n",
       "      <td>Wed Apr 15</td>\n",
       "      <td>Gurgaon, India</td>\n",
       "      <td>24</td>\n",
       "    </tr>\n",
       "    <tr>\n",
       "      <th>75240</th>\n",
       "      <td>1250407312671395841</td>\n",
       "      <td>Wed Apr 15</td>\n",
       "      <td>Sumedang Utara, Indonesia</td>\n",
       "      <td>0</td>\n",
       "    </tr>\n",
       "    <tr>\n",
       "      <th>75558</th>\n",
       "      <td>1250407347094196225</td>\n",
       "      <td>Wed Apr 15</td>\n",
       "      <td>Kampala, Uganda</td>\n",
       "      <td>1</td>\n",
       "    </tr>\n",
       "    <tr>\n",
       "      <th>75574</th>\n",
       "      <td>1250407346041286656</td>\n",
       "      <td>Wed Apr 15</td>\n",
       "      <td>Saravanampatti</td>\n",
       "      <td>1</td>\n",
       "    </tr>\n",
       "    <tr>\n",
       "      <th>75664</th>\n",
       "      <td>1250407351666040832</td>\n",
       "      <td>Wed Apr 15</td>\n",
       "      <td>Chillán, Chile</td>\n",
       "      <td>0</td>\n",
       "    </tr>\n",
       "  </tbody>\n",
       "</table>\n",
       "<p>838 rows × 4 columns</p>\n",
       "</div>"
      ],
      "text/plain": [
       "                        id   created_at                      place  \\\n",
       "25     1245322458921676801  Wed Apr 01           Crediton, England   \n",
       "46     1245322458149933062  Wed Apr 01      West Midlands, England   \n",
       "155    1245322470808223745  Wed Apr 01              Tuusula, Suomi   \n",
       "305    1245322487421755392  Wed Apr 01              Nairobi, Kenya   \n",
       "362    1245322496162717696  Wed Apr 01           Vijayawada, India   \n",
       "...                    ...          ...                        ...   \n",
       "75223  1250407305306238976  Wed Apr 15              Gurgaon, India   \n",
       "75240  1250407312671395841  Wed Apr 15   Sumedang Utara, Indonesia   \n",
       "75558  1250407347094196225  Wed Apr 15             Kampala, Uganda   \n",
       "75574  1250407346041286656  Wed Apr 15              Saravanampatti   \n",
       "75664  1250407351666040832  Wed Apr 15              Chillán, Chile   \n",
       "\n",
       "       retweet_count  \n",
       "25                 0  \n",
       "46                 0  \n",
       "155                1  \n",
       "305                0  \n",
       "362                0  \n",
       "...              ...  \n",
       "75223             24  \n",
       "75240              0  \n",
       "75558              1  \n",
       "75574              1  \n",
       "75664              0  \n",
       "\n",
       "[838 rows x 4 columns]"
      ]
     },
     "execution_count": 10,
     "metadata": {},
     "output_type": "execute_result"
    }
   ],
   "source": [
    "april"
   ]
  },
  {
   "cell_type": "code",
   "execution_count": 11,
   "metadata": {},
   "outputs": [],
   "source": [
    "may = twitter_may[twitter_may['place'].notna()]"
   ]
  },
  {
   "cell_type": "code",
   "execution_count": 40,
   "metadata": {},
   "outputs": [
    {
     "data": {
      "text/plain": [
       "New Delhi, India              18\n",
       "Brooklyn, NY                  11\n",
       "Mumbai, India                  9\n",
       "Rio de Janeiro, Brazil         9\n",
       "Chicago, IL                    5\n",
       "                              ..\n",
       "Sri Lanka                      1\n",
       "Miranda, Venezuela             1\n",
       "Michigan, USA                  1\n",
       "Jamshedpur, India              1\n",
       "Marnes-la-Coquette, France     1\n",
       "Name: place, Length: 560, dtype: int64"
      ]
     },
     "execution_count": 40,
     "metadata": {},
     "output_type": "execute_result"
    }
   ],
   "source": [
    "may['place'].value_counts()"
   ]
  },
  {
   "cell_type": "code",
   "execution_count": null,
   "metadata": {},
   "outputs": [],
   "source": []
  },
  {
   "cell_type": "code",
   "execution_count": null,
   "metadata": {},
   "outputs": [],
   "source": []
  },
  {
   "cell_type": "code",
   "execution_count": null,
   "metadata": {},
   "outputs": [],
   "source": []
  },
  {
   "cell_type": "code",
   "execution_count": null,
   "metadata": {},
   "outputs": [],
   "source": []
  }
 ],
 "metadata": {
  "kernelspec": {
   "display_name": "PythonData",
   "language": "python",
   "name": "pythondata"
  },
  "language_info": {
   "codemirror_mode": {
    "name": "ipython",
    "version": 3
   },
   "file_extension": ".py",
   "mimetype": "text/x-python",
   "name": "python",
   "nbconvert_exporter": "python",
   "pygments_lexer": "ipython3",
   "version": "3.6.10"
  }
 },
 "nbformat": 4,
 "nbformat_minor": 4
}
