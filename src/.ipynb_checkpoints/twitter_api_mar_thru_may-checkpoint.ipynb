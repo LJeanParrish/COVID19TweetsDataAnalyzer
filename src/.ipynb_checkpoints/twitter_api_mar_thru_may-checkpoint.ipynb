{
 "cells": [
  {
   "cell_type": "code",
   "execution_count": 3,
   "metadata": {},
   "outputs": [
    {
     "ename": "SyntaxError",
     "evalue": "invalid syntax (<ipython-input-3-e167da48a485>, line 10)",
     "output_type": "error",
     "traceback": [
      "\u001b[0;36m  File \u001b[0;32m\"<ipython-input-3-e167da48a485>\"\u001b[0;36m, line \u001b[0;32m10\u001b[0m\n\u001b[0;31m    from '..Resources/api_keys.py' import g_key\u001b[0m\n\u001b[0m                                 ^\u001b[0m\n\u001b[0;31mSyntaxError\u001b[0m\u001b[0;31m:\u001b[0m invalid syntax\n"
     ]
    }
   ],
   "source": [
    "import pandas as pd\n",
    "import matplotlib.pyplot as plt\n",
    "import os\n",
    "import numpy as np\n",
    "import seaborn as sns\n",
    "sns.set_theme(style=\"darkgrid\")\n",
    "from functools import reduce\n",
    "import requests\n",
    "import json\n",
    "from '..Resources/api_keys.py' import g_key\n",
    "# with open('timeseries.json') as f:\n",
    "#   covid_cases = json.load(f)\n",
    "import gmaps\n",
    "import glob"
   ]
  },
  {
   "cell_type": "code",
   "execution_count": null,
   "metadata": {},
   "outputs": [],
   "source": [
    "def raw_data_by_month(month):\n",
    "    files = [i for i in glob.glob('twitterapi/{}*.{}'.format(month,'csv'))] \n",
    "\n",
    "    raw_df = pd.concat([pd.read_csv(f, parse_dates=['created_at']) for f in files ])  \n",
    "    \n",
    "    return raw_df\n"
   ]
  },
  {
   "cell_type": "code",
   "execution_count": null,
   "metadata": {},
   "outputs": [],
   "source": [
    "march_df = raw_data_by_month('03')\n",
    "march_df = march_df.sort_values(by=\"created_at\")\n",
    "march_df"
   ]
  },
  {
   "cell_type": "code",
   "execution_count": null,
   "metadata": {},
   "outputs": [],
   "source": [
    "april_df = raw_data_by_month('04')\n",
    "april_df = april_df.sort_values(by=\"created_at\")\n",
    "april_df"
   ]
  },
  {
   "cell_type": "code",
   "execution_count": null,
   "metadata": {},
   "outputs": [],
   "source": [
    "may_df = raw_data_by_month('05')\n",
    "may_df = may_df.sort_values(by=\"created_at\")\n",
    "may_df"
   ]
  },
  {
   "cell_type": "code",
   "execution_count": null,
   "metadata": {},
   "outputs": [],
   "source": [
    "def filter_data(raw_df):\n",
    "    filtered_data = raw_df[['id', 'created_at', 'place', 'favorite_count','retweet_count']]\n",
    "    filtered_data = filtered_data[raw_df['place'].notna()]\n",
    "    filtered_data = filtered_data.reset_index(drop=True)\n",
    "    filtered_data.rename(columns={'created_at':'Date', 'id':'Tweet ID', 'place': 'Place', 'favorite_count':'Favorite Count','retweet_count':'Retweet Count'}, inplace=True)\n",
    "    filtered_data['Date'] = filtered_data['Date'].dt.strftime('%Y-%m-%d')\n",
    "    filtered_data[\"Lat\"] = \"\"\n",
    "    filtered_data[\"Lng\"] = \"\"\n",
    "    filtered_data[\"Country\"] = \"\"\n",
    "    return filtered_data"
   ]
  },
  {
   "cell_type": "code",
   "execution_count": null,
   "metadata": {},
   "outputs": [],
   "source": [
    "march_filter = filter_data(march_df)\n",
    "march_filter"
   ]
  },
  {
   "cell_type": "code",
   "execution_count": null,
   "metadata": {
    "scrolled": true
   },
   "outputs": [],
   "source": [
    "april_filter = filter_data(april_df)\n",
    "april_filter"
   ]
  },
  {
   "cell_type": "code",
   "execution_count": null,
   "metadata": {},
   "outputs": [],
   "source": [
    "may_filter = filter_data(may_df)\n",
    "may_filter"
   ]
  },
  {
   "cell_type": "code",
   "execution_count": null,
   "metadata": {},
   "outputs": [],
   "source": [
    "# create a params dict that will be updated with new city each iteration\n",
    "params = {\"key\": g_key}\n",
    "base_url = \"https://maps.googleapis.com/maps/api/geocode/json\""
   ]
  },
  {
   "cell_type": "code",
   "execution_count": null,
   "metadata": {},
   "outputs": [],
   "source": [
    "# Loop through the cities_pd and run a lat/long search for each city\n",
    "def append_geocode_country(geocode_df):\n",
    "    for index, row in geocode_df.iterrows():\n",
    "        address = row['Place']\n",
    "\n",
    "        # update address key value\n",
    "        params['address'] = f\"{address}\"\n",
    "\n",
    "        # make request\n",
    "        cities = requests.get(base_url, params=params)\n",
    "        cities = cities.json()\n",
    "        resp_data = requests.get(base_url, params=params).json()\n",
    "       \n",
    "    \n",
    "        try: \n",
    "            march_data.loc[index, \"Lat\"] = resp_data[\"results\"][0][\"geometry\"][\"location\"][\"lat\"]\n",
    "            march_data.loc[index, \"Lng\"] = resp_data[\"results\"][0][\"geometry\"][\"location\"][\"lng\"]\n",
    "        except:\n",
    "           pass\n",
    "        try:\n",
    "            address_components = resp_data['results'][0]['address_components']\n",
    "            for i in range(0, len(address_components)):\n",
    "                if (address_components[i]['types'][0]) == \"country\":\n",
    "                    geocode_df.loc[index, 'Country'] = address_components[i]['short_name']\n",
    "        except:\n",
    "            pass    \n",
    "    geocode_df['Covid Cases'] = \"\"\n",
    "    geocode_df = geocode_df.dropna()\n",
    "#     geocode_df['Lat'] = pd.to_numeric(geocode_df['Lat'])\n",
    "#     geocode_df['Lng'] = pd.to_numeric(geocode_df['Lng'])\n",
    "    geocode_df['Retweet Count'] = geocode_df['Retweet Count'].astype(float)\n",
    "    return geocode_df"
   ]
  },
  {
   "cell_type": "code",
   "execution_count": null,
   "metadata": {},
   "outputs": [],
   "source": [
    "march_data = append_geocode_country(march_filter)\n",
    "march_data"
   ]
  },
  {
   "cell_type": "code",
   "execution_count": null,
   "metadata": {},
   "outputs": [],
   "source": [
    "april_data = append_geocode_country(april_filter)\n",
    "april_data"
   ]
  },
  {
   "cell_type": "code",
   "execution_count": null,
   "metadata": {},
   "outputs": [],
   "source": [
    "may_data = append_geocode_country(may_filter)\n",
    "may_data"
   ]
  },
  {
   "cell_type": "code",
   "execution_count": null,
   "metadata": {},
   "outputs": [],
   "source": [
    "new_covid = new_covid[['Date', 'Country', 'Cumulative_cases']]\n",
    "new_covid"
   ]
  },
  {
   "cell_type": "code",
   "execution_count": null,
   "metadata": {},
   "outputs": [],
   "source": [
    "# march_data['Lat'] = pd.to_numeric(march_data['Lat'])\n",
    "# march_data['Lng'] = pd.to_numeric(march_data['Lng'])\n",
    "# march_data = march_data[march_data['Lat'].notna()]\n",
    "# march_data['retweet_count'] = march_data['retweet_count'].astype(float)"
   ]
  },
  {
   "cell_type": "code",
   "execution_count": null,
   "metadata": {},
   "outputs": [],
   "source": [
    "# map func\n",
    "info_box_template = \"\"\n",
    "def draw_map(month_df):\n",
    "    \n",
    "    loc_df = month_df[[\"Lat\", \"Lng\"]]\n",
    "    \n",
    "    gmaps.configure(api_key = g_key)\n",
    "    map_figure = gmaps.figure()\n",
    "\n",
    "    layer = gmaps.heatmap_layer(loc_df, max_intensity=100, dissipating = False, point_radius = 0.5, opacity = 0.3)\n",
    "    \n",
    "\n",
    "    fig = gmaps.figure()\n",
    "    markers = gmaps.marker_layer(loc_df)\n",
    "    fig.add_layer(markers)\n",
    "    fig\n",
    "    \n",
    "    \n",
    "    return map_figure"
   ]
  },
  {
   "cell_type": "code",
   "execution_count": null,
   "metadata": {},
   "outputs": [],
   "source": [
    "draw_map(march_data)"
   ]
  },
  {
   "cell_type": "code",
   "execution_count": null,
   "metadata": {},
   "outputs": [],
   "source": []
  }
 ],
 "metadata": {
  "kernelspec": {
   "display_name": "PythonData",
   "language": "python",
   "name": "pythondata"
  },
  "language_info": {
   "codemirror_mode": {
    "name": "ipython",
    "version": 3
   },
   "file_extension": ".py",
   "mimetype": "text/x-python",
   "name": "python",
   "nbconvert_exporter": "python",
   "pygments_lexer": "ipython3",
   "version": "3.6.10"
  }
 },
 "nbformat": 4,
 "nbformat_minor": 4
}
