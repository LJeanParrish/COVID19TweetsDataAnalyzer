{
 "cells": [
  {
   "cell_type": "code",
   "execution_count": 1,
   "metadata": {},
   "outputs": [],
   "source": [
    "import pandas as pd\n",
    "import matplotlib.pyplot as plt\n",
    "import os\n",
    "import numpy as np\n",
    "import seaborn as sns\n",
    "sns.set_theme(style=\"darkgrid\")\n",
    "from functools import reduce\n",
    "import requests\n",
    "import json\n"
   ]
  },
  {
   "cell_type": "code",
   "execution_count": 2,
   "metadata": {},
   "outputs": [],
   "source": [
    "mar01 = 'twitterapi/030120.csv'\n",
    "mar05 = 'twitterapi/030520.csv'\n",
    "mar10 = 'twitterapi/031020.csv'\n",
    "mar15 = 'twitterapi/031520.csv'\n",
    "mar20 = 'twitterapi/032020.csv'\n",
    "mar25 = 'twitterapi/032520.csv'\n",
    "apr01 = 'twitterapi/040120.csv'\n",
    "apr05 = 'twitterapi/040520.csv'\n",
    "apr10 = 'twitterapi/041020.csv'\n",
    "apr15 = 'twitterapi/041520.csv'\n",
    "apr20 = 'twitterapi/042020.csv'\n",
    "apr25 = 'twitterapi/042520.csv'\n",
    "may01 = 'twitterapi/050120.csv'\n",
    "may05 = 'twitterapi/050520.csv'\n",
    "may10 = 'twitterapi/051020.csv'\n",
    "may15 = 'twitterapi/051520.csv'\n",
    "may20 = 'twitterapi/052020.csv'\n",
    "may25 = 'twitterapi/052520.csv'"
   ]
  },
  {
   "cell_type": "code",
   "execution_count": 3,
   "metadata": {},
   "outputs": [
    {
     "name": "stderr",
     "output_type": "stream",
     "text": [
      "/Users/jameswhite/opt/anaconda3/envs/PythonData/lib/python3.6/site-packages/IPython/core/interactiveshell.py:3072: DtypeWarning: Columns (0) have mixed types.Specify dtype option on import or set low_memory=False.\n",
      "  interactivity=interactivity, compiler=compiler, result=result)\n"
     ]
    }
   ],
   "source": [
    "twitter_mar_01 = pd.read_csv(mar01)\n",
    "twitter_mar_05 = pd.read_csv(mar05)\n",
    "twitter_mar_10 = pd.read_csv(mar10)\n",
    "twitter_mar_15 = pd.read_csv(mar15)\n",
    "twitter_mar_20 = pd.read_csv(mar20)\n",
    "twitter_mar_25 = pd.read_csv(mar25)\n",
    "twitter_apr_01 = pd.read_csv(apr01)\n",
    "twitter_apr_05 = pd.read_csv(apr05)\n",
    "twitter_apr_10 = pd.read_csv(apr10)\n",
    "twitter_apr_15 = pd.read_csv(apr15)\n",
    "twitter_apr_20 = pd.read_csv(apr20)\n",
    "twitter_apr_25 = pd.read_csv(apr25)\n",
    "twitter_may_01 = pd.read_csv(may01)\n",
    "twitter_may_05 = pd.read_csv(may05)\n",
    "twitter_may_10 = pd.read_csv(may10)\n",
    "twitter_may_15 = pd.read_csv(may15)\n",
    "twitter_may_20 = pd.read_csv(may20)\n",
    "twitter_may_25 = pd.read_csv(may25)"
   ]
  },
  {
   "cell_type": "code",
   "execution_count": 4,
   "metadata": {},
   "outputs": [],
   "source": [
    "# twitter_mar_01.dtypes"
   ]
  },
  {
   "cell_type": "code",
   "execution_count": 5,
   "metadata": {},
   "outputs": [],
   "source": [
    "march_frames = [twitter_mar_01, twitter_mar_05, twitter_mar_10, twitter_mar_15, twitter_mar_20, twitter_mar_25]"
   ]
  },
  {
   "cell_type": "code",
   "execution_count": 6,
   "metadata": {},
   "outputs": [],
   "source": [
    "april_frames = [twitter_apr_01, twitter_apr_05, twitter_apr_10, twitter_apr_15, twitter_apr_20, twitter_apr_25]"
   ]
  },
  {
   "cell_type": "code",
   "execution_count": 7,
   "metadata": {},
   "outputs": [],
   "source": [
    "may_frames = [twitter_may_01, twitter_may_05, twitter_may_10, twitter_may_15, twitter_may_20, twitter_may_25]"
   ]
  },
  {
   "cell_type": "code",
   "execution_count": 8,
   "metadata": {},
   "outputs": [],
   "source": [
    "march_data = reduce(lambda  left,right: pd.merge(left,right,\n",
    "                                            how='outer'), march_frames)"
   ]
  },
  {
   "cell_type": "code",
   "execution_count": 9,
   "metadata": {},
   "outputs": [],
   "source": [
    "april_data = reduce(lambda  left,right: pd.merge(left,right,\n",
    "                                            how='outer'), april_frames)"
   ]
  },
  {
   "cell_type": "code",
   "execution_count": 10,
   "metadata": {},
   "outputs": [],
   "source": [
    "may_data = reduce(lambda  left,right: pd.merge(left,right,\n",
    "                                            how='outer'), may_frames)"
   ]
  },
  {
   "cell_type": "code",
   "execution_count": 20,
   "metadata": {},
   "outputs": [
    {
     "name": "stderr",
     "output_type": "stream",
     "text": [
      "/Users/jameswhite/opt/anaconda3/envs/PythonData/lib/python3.6/site-packages/ipykernel_launcher.py:2: SettingWithCopyWarning: \n",
      "A value is trying to be set on a copy of a slice from a DataFrame.\n",
      "Try using .loc[row_indexer,col_indexer] = value instead\n",
      "\n",
      "See the caveats in the documentation: https://pandas.pydata.org/pandas-docs/stable/user_guide/indexing.html#returning-a-view-versus-a-copy\n",
      "  \n"
     ]
    }
   ],
   "source": [
    "march_data = march_data[['id', 'created_at', 'place', 'retweet_count']]\n",
    "march_data['created_at'] = [x.split('12')[0] for x in march_data['created_at']]"
   ]
  },
  {
   "cell_type": "code",
   "execution_count": 21,
   "metadata": {},
   "outputs": [],
   "source": [
    "march_data = march_data[march_data['place'].notna()]"
   ]
  },
  {
   "cell_type": "code",
   "execution_count": 22,
   "metadata": {},
   "outputs": [
    {
     "data": {
      "text/html": [
       "<div>\n",
       "<style scoped>\n",
       "    .dataframe tbody tr th:only-of-type {\n",
       "        vertical-align: middle;\n",
       "    }\n",
       "\n",
       "    .dataframe tbody tr th {\n",
       "        vertical-align: top;\n",
       "    }\n",
       "\n",
       "    .dataframe thead th {\n",
       "        text-align: right;\n",
       "    }\n",
       "</style>\n",
       "<table border=\"1\" class=\"dataframe\">\n",
       "  <thead>\n",
       "    <tr style=\"text-align: right;\">\n",
       "      <th></th>\n",
       "      <th>id</th>\n",
       "      <th>created_at</th>\n",
       "      <th>place</th>\n",
       "      <th>retweet_count</th>\n",
       "    </tr>\n",
       "  </thead>\n",
       "  <tbody>\n",
       "    <tr>\n",
       "      <th>66</th>\n",
       "      <td>1234090090743451650</td>\n",
       "      <td>Sun Mar 01</td>\n",
       "      <td>Pennsylvania, USA</td>\n",
       "      <td>0</td>\n",
       "    </tr>\n",
       "    <tr>\n",
       "      <th>232</th>\n",
       "      <td>1234090114340487174</td>\n",
       "      <td>Sun Mar 01</td>\n",
       "      <td>Rovereto, Trentino-Alto Adige</td>\n",
       "      <td>0</td>\n",
       "    </tr>\n",
       "    <tr>\n",
       "      <th>485</th>\n",
       "      <td>1234090142169780225</td>\n",
       "      <td>Sun Mar 01</td>\n",
       "      <td>Hillsdale, NJ</td>\n",
       "      <td>0</td>\n",
       "    </tr>\n",
       "    <tr>\n",
       "      <th>605</th>\n",
       "      <td>1234090154408673283</td>\n",
       "      <td>Sun Mar 01</td>\n",
       "      <td>Annot, France</td>\n",
       "      <td>0</td>\n",
       "    </tr>\n",
       "    <tr>\n",
       "      <th>641</th>\n",
       "      <td>1234090163418148864</td>\n",
       "      <td>Sun Mar 01</td>\n",
       "      <td>Wandsworth, London</td>\n",
       "      <td>0</td>\n",
       "    </tr>\n",
       "    <tr>\n",
       "      <th>...</th>\n",
       "      <td>...</td>\n",
       "      <td>...</td>\n",
       "      <td>...</td>\n",
       "      <td>...</td>\n",
       "    </tr>\n",
       "    <tr>\n",
       "      <th>231855</th>\n",
       "      <td>1242797462441558017</td>\n",
       "      <td>Wed Mar 25</td>\n",
       "      <td>Dublin City, Ireland</td>\n",
       "      <td>0</td>\n",
       "    </tr>\n",
       "    <tr>\n",
       "      <th>231887</th>\n",
       "      <td>1242797462282293248</td>\n",
       "      <td>Wed Mar 25</td>\n",
       "      <td>Nairobi, Kenya</td>\n",
       "      <td>0</td>\n",
       "    </tr>\n",
       "    <tr>\n",
       "      <th>232046</th>\n",
       "      <td>1242797495408824322</td>\n",
       "      <td>Wed Mar 25</td>\n",
       "      <td>Kendall, FL</td>\n",
       "      <td>0</td>\n",
       "    </tr>\n",
       "    <tr>\n",
       "      <th>232070</th>\n",
       "      <td>1242797490694283269</td>\n",
       "      <td>Wed Mar 25</td>\n",
       "      <td>Ungaran, Indonesia</td>\n",
       "      <td>0</td>\n",
       "    </tr>\n",
       "    <tr>\n",
       "      <th>232118</th>\n",
       "      <td>1242797499791835143</td>\n",
       "      <td>Wed Mar 25</td>\n",
       "      <td>Bogotá, D.C., Colombia</td>\n",
       "      <td>0</td>\n",
       "    </tr>\n",
       "  </tbody>\n",
       "</table>\n",
       "<p>2093 rows × 4 columns</p>\n",
       "</div>"
      ],
      "text/plain": [
       "                         id   created_at                          place  \\\n",
       "66      1234090090743451650  Sun Mar 01               Pennsylvania, USA   \n",
       "232     1234090114340487174  Sun Mar 01   Rovereto, Trentino-Alto Adige   \n",
       "485     1234090142169780225  Sun Mar 01                   Hillsdale, NJ   \n",
       "605     1234090154408673283  Sun Mar 01                   Annot, France   \n",
       "641     1234090163418148864  Sun Mar 01              Wandsworth, London   \n",
       "...                     ...          ...                            ...   \n",
       "231855  1242797462441558017  Wed Mar 25            Dublin City, Ireland   \n",
       "231887  1242797462282293248  Wed Mar 25                  Nairobi, Kenya   \n",
       "232046  1242797495408824322  Wed Mar 25                     Kendall, FL   \n",
       "232070  1242797490694283269  Wed Mar 25              Ungaran, Indonesia   \n",
       "232118  1242797499791835143  Wed Mar 25          Bogotá, D.C., Colombia   \n",
       "\n",
       "        retweet_count  \n",
       "66                  0  \n",
       "232                 0  \n",
       "485                 0  \n",
       "605                 0  \n",
       "641                 0  \n",
       "...               ...  \n",
       "231855              0  \n",
       "231887              0  \n",
       "232046              0  \n",
       "232070              0  \n",
       "232118              0  \n",
       "\n",
       "[2093 rows x 4 columns]"
      ]
     },
     "execution_count": 22,
     "metadata": {},
     "output_type": "execute_result"
    }
   ],
   "source": [
    "march_data"
   ]
  },
  {
   "cell_type": "code",
   "execution_count": 38,
   "metadata": {},
   "outputs": [
    {
     "data": {
      "text/plain": [
       "Manhattan, NY                    27\n",
       "New Delhi, India                 20\n",
       "Mumbai, India                    17\n",
       "Madrid, Spain                    14\n",
       "İstanbul, Türkiye                13\n",
       "                                 ..\n",
       "Elizabethtown-Kitley, Ontario     1\n",
       "Hsinchu County, Taiwan            1\n",
       "Naut Aran, Spain                  1\n",
       "Livorno, Tuscany                  1\n",
       "San Juan, USA                     1\n",
       "Name: place, Length: 1327, dtype: int64"
      ]
     },
     "execution_count": 38,
     "metadata": {},
     "output_type": "execute_result"
    }
   ],
   "source": [
    "march_data['place'].value_counts()"
   ]
  },
  {
   "cell_type": "code",
   "execution_count": 14,
   "metadata": {},
   "outputs": [],
   "source": [
    "april_data = april_data[['id', 'created_at', 'place', 'retweet_count']]\n",
    "april_data['created_at'] = [x.split('12')[0] for x in april_data['created_at']]"
   ]
  },
  {
   "cell_type": "code",
   "execution_count": 15,
   "metadata": {},
   "outputs": [],
   "source": [
    "april_data = april_data[april_data['place'].notna()]"
   ]
  },
  {
   "cell_type": "code",
   "execution_count": 16,
   "metadata": {},
   "outputs": [
    {
     "data": {
      "text/html": [
       "<div>\n",
       "<style scoped>\n",
       "    .dataframe tbody tr th:only-of-type {\n",
       "        vertical-align: middle;\n",
       "    }\n",
       "\n",
       "    .dataframe tbody tr th {\n",
       "        vertical-align: top;\n",
       "    }\n",
       "\n",
       "    .dataframe thead th {\n",
       "        text-align: right;\n",
       "    }\n",
       "</style>\n",
       "<table border=\"1\" class=\"dataframe\">\n",
       "  <thead>\n",
       "    <tr style=\"text-align: right;\">\n",
       "      <th></th>\n",
       "      <th>id</th>\n",
       "      <th>created_at</th>\n",
       "      <th>place</th>\n",
       "      <th>retweet_count</th>\n",
       "    </tr>\n",
       "  </thead>\n",
       "  <tbody>\n",
       "    <tr>\n",
       "      <th>25</th>\n",
       "      <td>1245322458921676801</td>\n",
       "      <td>Wed Apr 01</td>\n",
       "      <td>Crediton, England</td>\n",
       "      <td>0</td>\n",
       "    </tr>\n",
       "    <tr>\n",
       "      <th>46</th>\n",
       "      <td>1245322458149933062</td>\n",
       "      <td>Wed Apr 01</td>\n",
       "      <td>West Midlands, England</td>\n",
       "      <td>0</td>\n",
       "    </tr>\n",
       "    <tr>\n",
       "      <th>155</th>\n",
       "      <td>1245322470808223745</td>\n",
       "      <td>Wed Apr 01</td>\n",
       "      <td>Tuusula, Suomi</td>\n",
       "      <td>1</td>\n",
       "    </tr>\n",
       "    <tr>\n",
       "      <th>305</th>\n",
       "      <td>1245322487421755392</td>\n",
       "      <td>Wed Apr 01</td>\n",
       "      <td>Nairobi, Kenya</td>\n",
       "      <td>0</td>\n",
       "    </tr>\n",
       "    <tr>\n",
       "      <th>362</th>\n",
       "      <td>1245322496162717696</td>\n",
       "      <td>Wed Apr 01</td>\n",
       "      <td>Vijayawada, India</td>\n",
       "      <td>0</td>\n",
       "    </tr>\n",
       "    <tr>\n",
       "      <th>...</th>\n",
       "      <td>...</td>\n",
       "      <td>...</td>\n",
       "      <td>...</td>\n",
       "      <td>...</td>\n",
       "    </tr>\n",
       "    <tr>\n",
       "      <th>222299</th>\n",
       "      <td>1254031217491673088</td>\n",
       "      <td>Sat Apr 25</td>\n",
       "      <td>Lekki, Nigeria</td>\n",
       "      <td>1</td>\n",
       "    </tr>\n",
       "    <tr>\n",
       "      <th>222378</th>\n",
       "      <td>1254031221140721664</td>\n",
       "      <td>Sat Apr 25</td>\n",
       "      <td>Camden Town, London</td>\n",
       "      <td>0</td>\n",
       "    </tr>\n",
       "    <tr>\n",
       "      <th>222469</th>\n",
       "      <td>1254031242565242880</td>\n",
       "      <td>Sat Apr 25</td>\n",
       "      <td>Guelph, Ontario</td>\n",
       "      <td>0</td>\n",
       "    </tr>\n",
       "    <tr>\n",
       "      <th>222773</th>\n",
       "      <td>1254031272558694405</td>\n",
       "      <td>Sat Apr 25</td>\n",
       "      <td>Tallinn, Estonia</td>\n",
       "      <td>1</td>\n",
       "    </tr>\n",
       "    <tr>\n",
       "      <th>222888</th>\n",
       "      <td>1254031280980717568</td>\n",
       "      <td>Sat Apr 25</td>\n",
       "      <td>Santa Ana, CA</td>\n",
       "      <td>0</td>\n",
       "    </tr>\n",
       "  </tbody>\n",
       "</table>\n",
       "<p>2511 rows × 4 columns</p>\n",
       "</div>"
      ],
      "text/plain": [
       "                         id   created_at                   place  \\\n",
       "25      1245322458921676801  Wed Apr 01        Crediton, England   \n",
       "46      1245322458149933062  Wed Apr 01   West Midlands, England   \n",
       "155     1245322470808223745  Wed Apr 01           Tuusula, Suomi   \n",
       "305     1245322487421755392  Wed Apr 01           Nairobi, Kenya   \n",
       "362     1245322496162717696  Wed Apr 01        Vijayawada, India   \n",
       "...                     ...          ...                     ...   \n",
       "222299  1254031217491673088  Sat Apr 25           Lekki, Nigeria   \n",
       "222378  1254031221140721664  Sat Apr 25      Camden Town, London   \n",
       "222469  1254031242565242880  Sat Apr 25          Guelph, Ontario   \n",
       "222773  1254031272558694405  Sat Apr 25         Tallinn, Estonia   \n",
       "222888  1254031280980717568  Sat Apr 25            Santa Ana, CA   \n",
       "\n",
       "        retweet_count  \n",
       "25                  0  \n",
       "46                  0  \n",
       "155                 1  \n",
       "305                 0  \n",
       "362                 0  \n",
       "...               ...  \n",
       "222299              1  \n",
       "222378              0  \n",
       "222469              0  \n",
       "222773              1  \n",
       "222888              0  \n",
       "\n",
       "[2511 rows x 4 columns]"
      ]
     },
     "execution_count": 16,
     "metadata": {},
     "output_type": "execute_result"
    }
   ],
   "source": [
    "april_data"
   ]
  },
  {
   "cell_type": "code",
   "execution_count": 37,
   "metadata": {},
   "outputs": [
    {
     "data": {
      "text/plain": [
       "New Delhi, India      30\n",
       "Mumbai, India         27\n",
       "Manhattan, NY         17\n",
       "Ikeja, Nigeria        17\n",
       "Madrid, Spain         16\n",
       "                      ..\n",
       "United Kingdom         1\n",
       "Alveston, England      1\n",
       "Tulsa, OK              1\n",
       "Etimesgut, Türkiye     1\n",
       "Itabashi-ku, Tokyo     1\n",
       "Name: place, Length: 1536, dtype: int64"
      ]
     },
     "execution_count": 37,
     "metadata": {},
     "output_type": "execute_result"
    }
   ],
   "source": [
    "april_data['place'].value_counts()"
   ]
  },
  {
   "cell_type": "code",
   "execution_count": 17,
   "metadata": {},
   "outputs": [],
   "source": [
    "may_data = may_data[['id', 'created_at', 'place', 'retweet_count']]\n",
    "may_data['created_at'] = [x.split('12')[0] for x in may_data['created_at']]"
   ]
  },
  {
   "cell_type": "code",
   "execution_count": 18,
   "metadata": {},
   "outputs": [],
   "source": [
    "may_data = may_data[may_data['place'].notna()]"
   ]
  },
  {
   "cell_type": "code",
   "execution_count": 35,
   "metadata": {},
   "outputs": [
    {
     "data": {
      "text/html": [
       "<div>\n",
       "<style scoped>\n",
       "    .dataframe tbody tr th:only-of-type {\n",
       "        vertical-align: middle;\n",
       "    }\n",
       "\n",
       "    .dataframe tbody tr th {\n",
       "        vertical-align: top;\n",
       "    }\n",
       "\n",
       "    .dataframe thead th {\n",
       "        text-align: right;\n",
       "    }\n",
       "</style>\n",
       "<table border=\"1\" class=\"dataframe\">\n",
       "  <thead>\n",
       "    <tr style=\"text-align: right;\">\n",
       "      <th></th>\n",
       "      <th>id</th>\n",
       "      <th>created_at</th>\n",
       "      <th>place</th>\n",
       "      <th>retweet_count</th>\n",
       "    </tr>\n",
       "  </thead>\n",
       "  <tbody>\n",
       "    <tr>\n",
       "      <th>60</th>\n",
       "      <td>1256193425415852032</td>\n",
       "      <td>Fri May 01</td>\n",
       "      <td>Kensington, London</td>\n",
       "      <td>10</td>\n",
       "    </tr>\n",
       "    <tr>\n",
       "      <th>140</th>\n",
       "      <td>1256193436442476547</td>\n",
       "      <td>Fri May 01</td>\n",
       "      <td>Kantō, Chiba</td>\n",
       "      <td>0</td>\n",
       "    </tr>\n",
       "    <tr>\n",
       "      <th>433</th>\n",
       "      <td>1256193469384712192</td>\n",
       "      <td>Fri May 01</td>\n",
       "      <td>Lakeland Heights, TX</td>\n",
       "      <td>0</td>\n",
       "    </tr>\n",
       "    <tr>\n",
       "      <th>466</th>\n",
       "      <td>1256193465077108737</td>\n",
       "      <td>Fri May 01</td>\n",
       "      <td>Banbury, England</td>\n",
       "      <td>0</td>\n",
       "    </tr>\n",
       "    <tr>\n",
       "      <th>764</th>\n",
       "      <td>1256193503115313152</td>\n",
       "      <td>Fri May 01</td>\n",
       "      <td>Shimla, India</td>\n",
       "      <td>3</td>\n",
       "    </tr>\n",
       "    <tr>\n",
       "      <th>...</th>\n",
       "      <td>...</td>\n",
       "      <td>...</td>\n",
       "      <td>...</td>\n",
       "      <td>...</td>\n",
       "    </tr>\n",
       "    <tr>\n",
       "      <th>218015</th>\n",
       "      <td>1264903991617617923</td>\n",
       "      <td>Mon May 25</td>\n",
       "      <td>King's Lynn, England</td>\n",
       "      <td>0</td>\n",
       "    </tr>\n",
       "    <tr>\n",
       "      <th>218233</th>\n",
       "      <td>1264904010894413824</td>\n",
       "      <td>Mon May 25</td>\n",
       "      <td>Dindigul, India</td>\n",
       "      <td>0</td>\n",
       "    </tr>\n",
       "    <tr>\n",
       "      <th>218422</th>\n",
       "      <td>1264904037045956609</td>\n",
       "      <td>Mon May 25</td>\n",
       "      <td>Ilagan, Cagayan Valley</td>\n",
       "      <td>0</td>\n",
       "    </tr>\n",
       "    <tr>\n",
       "      <th>218497</th>\n",
       "      <td>1264904044205805569</td>\n",
       "      <td>Mon May 25</td>\n",
       "      <td>Robinson Memorial Methodist Marathi Central Ch...</td>\n",
       "      <td>0</td>\n",
       "    </tr>\n",
       "    <tr>\n",
       "      <th>218523</th>\n",
       "      <td>1264904045250121854</td>\n",
       "      <td>Mon May 25</td>\n",
       "      <td>Rayachoti, India</td>\n",
       "      <td>0</td>\n",
       "    </tr>\n",
       "  </tbody>\n",
       "</table>\n",
       "<p>2217 rows × 4 columns</p>\n",
       "</div>"
      ],
      "text/plain": [
       "                         id   created_at  \\\n",
       "60      1256193425415852032  Fri May 01    \n",
       "140     1256193436442476547  Fri May 01    \n",
       "433     1256193469384712192  Fri May 01    \n",
       "466     1256193465077108737  Fri May 01    \n",
       "764     1256193503115313152  Fri May 01    \n",
       "...                     ...          ...   \n",
       "218015  1264903991617617923  Mon May 25    \n",
       "218233  1264904010894413824  Mon May 25    \n",
       "218422  1264904037045956609  Mon May 25    \n",
       "218497  1264904044205805569  Mon May 25    \n",
       "218523  1264904045250121854  Mon May 25    \n",
       "\n",
       "                                                    place  retweet_count  \n",
       "60                                     Kensington, London             10  \n",
       "140                                          Kantō, Chiba              0  \n",
       "433                                  Lakeland Heights, TX              0  \n",
       "466                                      Banbury, England              0  \n",
       "764                                         Shimla, India              3  \n",
       "...                                                   ...            ...  \n",
       "218015                               King's Lynn, England              0  \n",
       "218233                                    Dindigul, India              0  \n",
       "218422                             Ilagan, Cagayan Valley              0  \n",
       "218497  Robinson Memorial Methodist Marathi Central Ch...              0  \n",
       "218523                                   Rayachoti, India              0  \n",
       "\n",
       "[2217 rows x 4 columns]"
      ]
     },
     "execution_count": 35,
     "metadata": {},
     "output_type": "execute_result"
    }
   ],
   "source": [
    "may_data"
   ]
  },
  {
   "cell_type": "code",
   "execution_count": 36,
   "metadata": {},
   "outputs": [
    {
     "data": {
      "text/plain": [
       "New Delhi, India                39\n",
       "Mumbai, India                   25\n",
       "Toronto, Ontario                20\n",
       "Florida, USA                    16\n",
       "Madrid, Spain                   16\n",
       "                                ..\n",
       "Ciudad Real, Spain               1\n",
       "Oissel, France                   1\n",
       "South Stoke, England             1\n",
       "Vanderbijlpark, South Africa     1\n",
       "Palwal, India                    1\n",
       "Name: place, Length: 1420, dtype: int64"
      ]
     },
     "execution_count": 36,
     "metadata": {},
     "output_type": "execute_result"
    }
   ],
   "source": [
    "may_data['place'].value_counts()"
   ]
  },
  {
   "cell_type": "code",
   "execution_count": null,
   "metadata": {},
   "outputs": [],
   "source": []
  }
 ],
 "metadata": {
  "kernelspec": {
   "display_name": "PythonData",
   "language": "python",
   "name": "pythondata"
  },
  "language_info": {
   "codemirror_mode": {
    "name": "ipython",
    "version": 3
   },
   "file_extension": ".py",
   "mimetype": "text/x-python",
   "name": "python",
   "nbconvert_exporter": "python",
   "pygments_lexer": "ipython3",
   "version": "3.6.10"
  }
 },
 "nbformat": 4,
 "nbformat_minor": 4
}
